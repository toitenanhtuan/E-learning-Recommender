{
 "cells": [
  {
   "cell_type": "code",
   "execution_count": 1,
   "id": "434c1e3b",
   "metadata": {},
   "outputs": [],
   "source": [
    "import pandas as pd\n",
    "from sklearn.feature_extraction.text import TfidfVectorizer\n",
    "from sklearn.metrics.pairwise import cosine_similarity\n",
    "import joblib\n",
    "import os\n",
    "import ast"
   ]
  },
  {
   "cell_type": "code",
   "execution_count": 2,
   "id": "4c9e4791",
   "metadata": {},
   "outputs": [],
   "source": [
    "DATA_PATH = \"D:\\AnhTuan\\BaiTap\\MLDatasets_DS423\\DoAn\\e_learning_recommender\\ml\\data\\processed\\cleaned_courses.csv\"\n",
    "MODEL_DIR = \"D:\\AnhTuan\\BaiTap\\MLDatasets_DS423\\DoAn\\e_learning_recommender\\ml\\models\"\n",
    "TFIDF_VECTORIZER_PATH = os.path.join(MODEL_DIR, \"tfidf_vectorizer.joblib\")\n",
    "COSINE_SIM_MATRIX_PATH = os.path.join(MODEL_DIR, \"cosine_sim_matrix.joblib\")\n",
    "COURSE_DATA_PATH = os.path.join(MODEL_DIR, \"course_data_for_recommendation.csv\")"
   ]
  },
  {
   "cell_type": "code",
   "execution_count": 3,
   "id": "a7b5724a",
   "metadata": {},
   "outputs": [
    {
     "name": "stdout",
     "output_type": "stream",
     "text": [
      "--- Bắt đầu quá trình huấn luyện mô hình gợi ý ---\n",
      "Đọc dữ liệu từ D:\\AnhTuan\\BaiTap\\MLDatasets_DS423\\DoAn\\e_learning_recommender\\ml\\data\\processed\\cleaned_courses.csv...\n",
      "Tiền xử lý cột 'processed_skills'...\n",
      "Huấn luyện TF-IDF Vectorizer...\n",
      "Tính toán ma trận tương đồng Cosine...\n",
      "Kích thước ma trận tương đồng: (3286, 3286)\n",
      "Lưu TF-IDF Vectorizer vào: D:\\AnhTuan\\BaiTap\\MLDatasets_DS423\\DoAn\\e_learning_recommender\\ml\\models\\tfidf_vectorizer.joblib\n",
      "Lưu ma trận tương đồng Cosine vào: D:\\AnhTuan\\BaiTap\\MLDatasets_DS423\\DoAn\\e_learning_recommender\\ml\\models\\cosine_sim_matrix.joblib\n",
      "Lưu dữ liệu khóa học cho gợi ý vào: D:\\AnhTuan\\BaiTap\\MLDatasets_DS423\\DoAn\\e_learning_recommender\\ml\\models\\course_data_for_recommendation.csv\n",
      "\n",
      "Huấn luyện và lưu mô hình thành công!\n"
     ]
    }
   ],
   "source": [
    "def train_and_save_model():\n",
    "    \"\"\"\n",
    "    Huấn luyện mô hình Content-Based và lưu các thành phần cần thiết.\n",
    "    \"\"\"\n",
    "    print(\"--- Bắt đầu quá trình huấn luyện mô hình gợi ý ---\")\n",
    "\n",
    "    # 1. Tạo thư mục models nếu chưa tồn tại\n",
    "    os.makedirs(MODEL_DIR, exist_ok=True)\n",
    "\n",
    "    # 2. Đọc dữ liệu\n",
    "    print(f\"Đọc dữ liệu từ {DATA_PATH}...\")\n",
    "    try:\n",
    "        df = pd.read_csv(DATA_PATH)\n",
    "    except FileNotFoundError:\n",
    "        print(f\"LỖI: Không tìm thấy file dữ liệu tại '{DATA_PATH}'.\")\n",
    "        print(\"Vui lòng chạy script data_preprocessing.py trước.\")\n",
    "        return\n",
    "\n",
    "    # 3. Tiền xử lý cột skills để đưa về dạng chuỗi\n",
    "    print(\"Tiền xử lý cột 'processed_skills'...\")\n",
    "    # Chuyển đổi chuỗi '[skill1, skill2]' thành list python\n",
    "    df[\"processed_skills\"] = df[\"processed_skills\"].apply(ast.literal_eval)\n",
    "    # Nối các skills trong list thành một chuỗi duy nhất, phân tách bằng khoảng trắng\n",
    "    df[\"skills_as_string\"] = df[\"processed_skills\"].apply(lambda x: \" \".join(x))\n",
    "\n",
    "    # 4. Huấn luyện TF-IDF Vectorizer\n",
    "    print(\"Huấn luyện TF-IDF Vectorizer...\")\n",
    "    # stop_words='english' để loại bỏ các từ phổ biến vô nghĩa trong tiếng Anh\n",
    "    tfidf_vectorizer = TfidfVectorizer(stop_words=\"english\")\n",
    "    tfidf_matrix = tfidf_vectorizer.fit_transform(df[\"skills_as_string\"])\n",
    "\n",
    "    # 5. Tính toán ma trận tương đồng Cosine\n",
    "    print(\"Tính toán ma trận tương đồng Cosine...\")\n",
    "    cosine_sim_matrix = cosine_similarity(tfidf_matrix, tfidf_matrix)\n",
    "    print(f\"Kích thước ma trận tương đồng: {cosine_sim_matrix.shape}\")\n",
    "\n",
    "    # 6. Lưu các thành phần đã huấn luyện\n",
    "    print(f\"Lưu TF-IDF Vectorizer vào: {TFIDF_VECTORIZER_PATH}\")\n",
    "    joblib.dump(tfidf_vectorizer, TFIDF_VECTORIZER_PATH)\n",
    "\n",
    "    print(f\"Lưu ma trận tương đồng Cosine vào: {COSINE_SIM_MATRIX_PATH}\")\n",
    "    joblib.dump(cosine_sim_matrix, COSINE_SIM_MATRIX_PATH)\n",
    "\n",
    "    # 7. Lưu một phiên bản DataFrame gọn nhẹ chỉ chứa thông tin cần cho gợi ý\n",
    "    # Điều này giúp service gợi ý không cần phải load cả file CSV lớn\n",
    "    course_data_for_recommendation = df[[\"id\", \"course_name\"]].copy()\n",
    "    course_data_for_recommendation.to_csv(COURSE_DATA_PATH, index=False)\n",
    "    print(f\"Lưu dữ liệu khóa học cho gợi ý vào: {COURSE_DATA_PATH}\")\n",
    "\n",
    "    print(\"\\nHuấn luyện và lưu mô hình thành công!\")\n",
    "\n",
    "\n",
    "if __name__ == \"__main__\":\n",
    "    train_and_save_model()"
   ]
  },
  {
   "cell_type": "code",
   "execution_count": null,
   "id": "0ee7e1c9",
   "metadata": {},
   "outputs": [],
   "source": []
  }
 ],
 "metadata": {
  "kernelspec": {
   "display_name": "Python 3",
   "language": "python",
   "name": "python3"
  },
  "language_info": {
   "codemirror_mode": {
    "name": "ipython",
    "version": 3
   },
   "file_extension": ".py",
   "mimetype": "text/x-python",
   "name": "python",
   "nbconvert_exporter": "python",
   "pygments_lexer": "ipython3",
   "version": "3.10.0"
  }
 },
 "nbformat": 4,
 "nbformat_minor": 5
}
